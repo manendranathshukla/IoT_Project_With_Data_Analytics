{
  "nbformat": 4,
  "nbformat_minor": 0,
  "metadata": {
    "colab": {
      "name": "PracticePrograms.ipynb",
      "provenance": [],
      "collapsed_sections": [],
      "include_colab_link": true
    },
    "kernelspec": {
      "name": "python3",
      "display_name": "Python 3"
    }
  },
  "cells": [
    {
      "cell_type": "markdown",
      "metadata": {
        "id": "view-in-github",
        "colab_type": "text"
      },
      "source": [
        "<a href=\"https://colab.research.google.com/github/manendranathshukla/IoT_Project_With_Data_Analytics/blob/master/AnalysedData.ipynb\" target=\"_parent\"><img src=\"https://colab.research.google.com/assets/colab-badge.svg\" alt=\"Open In Colab\"/></a>"
      ]
    },
    {
      "cell_type": "markdown",
      "metadata": {
        "id": "eS12srumMw7y",
        "colab_type": "text"
      },
      "source": [
        "Iot Project Machine Learning Implementation\n"
      ]
    },
    {
      "cell_type": "code",
      "metadata": {
        "id": "pmCLnHrzKdbb",
        "colab_type": "code",
        "colab": {}
      },
      "source": [
        "import pandas as pd\n",
        "import numpy as np \n",
        "import sklearn\n",
        "import matplotlib.pyplot as plt"
      ],
      "execution_count": 0,
      "outputs": []
    },
    {
      "cell_type": "code",
      "metadata": {
        "id": "MC4eIppzLC4y",
        "colab_type": "code",
        "colab": {}
      },
      "source": [
        "data = pd.read_csv(\"data.csv\")\n",
        "mydata=pd.DataFrame(data)\n"
      ],
      "execution_count": 0,
      "outputs": []
    },
    {
      "cell_type": "code",
      "metadata": {
        "id": "roqJZ8YYLlCL",
        "colab_type": "code",
        "outputId": "e730b29f-b967-4ea9-89f3-f2051fa17bec",
        "colab": {
          "base_uri": "https://localhost:8080/",
          "height": 206
        }
      },
      "source": [
        "mydata.head()"
      ],
      "execution_count": 117,
      "outputs": [
        {
          "output_type": "execute_result",
          "data": {
            "text/html": [
              "<div>\n",
              "<style scoped>\n",
              "    .dataframe tbody tr th:only-of-type {\n",
              "        vertical-align: middle;\n",
              "    }\n",
              "\n",
              "    .dataframe tbody tr th {\n",
              "        vertical-align: top;\n",
              "    }\n",
              "\n",
              "    .dataframe thead th {\n",
              "        text-align: right;\n",
              "    }\n",
              "</style>\n",
              "<table border=\"1\" class=\"dataframe\">\n",
              "  <thead>\n",
              "    <tr style=\"text-align: right;\">\n",
              "      <th></th>\n",
              "      <th>Time</th>\n",
              "      <th>Temperature</th>\n",
              "      <th>Salinity</th>\n",
              "      <th>Oxygen</th>\n",
              "      <th>pH</th>\n",
              "      <th>Unnamed: 5</th>\n",
              "    </tr>\n",
              "  </thead>\n",
              "  <tbody>\n",
              "    <tr>\n",
              "      <th>0</th>\n",
              "      <td>2045</td>\n",
              "      <td>13.233</td>\n",
              "      <td>33.5317</td>\n",
              "      <td>209.86</td>\n",
              "      <td>7.999</td>\n",
              "      <td>NaN</td>\n",
              "    </tr>\n",
              "    <tr>\n",
              "      <th>1</th>\n",
              "      <td>2100</td>\n",
              "      <td>13.300</td>\n",
              "      <td>33.4850</td>\n",
              "      <td>209.84</td>\n",
              "      <td>8.001</td>\n",
              "      <td>NaN</td>\n",
              "    </tr>\n",
              "    <tr>\n",
              "      <th>2</th>\n",
              "      <td>2114</td>\n",
              "      <td>13.269</td>\n",
              "      <td>33.4960</td>\n",
              "      <td>208.82</td>\n",
              "      <td>7.998</td>\n",
              "      <td>NaN</td>\n",
              "    </tr>\n",
              "    <tr>\n",
              "      <th>3</th>\n",
              "      <td>2129</td>\n",
              "      <td>13.261</td>\n",
              "      <td>33.4764</td>\n",
              "      <td>207.71</td>\n",
              "      <td>7.995</td>\n",
              "      <td>NaN</td>\n",
              "    </tr>\n",
              "    <tr>\n",
              "      <th>4</th>\n",
              "      <td>2145</td>\n",
              "      <td>13.284</td>\n",
              "      <td>33.4921</td>\n",
              "      <td>207.39</td>\n",
              "      <td>7.999</td>\n",
              "      <td>NaN</td>\n",
              "    </tr>\n",
              "  </tbody>\n",
              "</table>\n",
              "</div>"
            ],
            "text/plain": [
              "   Time  Temperature  Salinity  Oxygen     pH  Unnamed: 5\n",
              "0  2045       13.233   33.5317  209.86  7.999         NaN\n",
              "1  2100       13.300   33.4850  209.84  8.001         NaN\n",
              "2  2114       13.269   33.4960  208.82  7.998         NaN\n",
              "3  2129       13.261   33.4764  207.71  7.995         NaN\n",
              "4  2145       13.284   33.4921  207.39  7.999         NaN"
            ]
          },
          "metadata": {
            "tags": []
          },
          "execution_count": 117
        }
      ]
    },
    {
      "cell_type": "code",
      "metadata": {
        "id": "XsatR6qbMDvU",
        "colab_type": "code",
        "colab": {}
      },
      "source": [
        "mydata=mydata.drop(['Unnamed: 5'],axis=1)"
      ],
      "execution_count": 0,
      "outputs": []
    },
    {
      "cell_type": "code",
      "metadata": {
        "id": "qo8S5y6NQnSl",
        "colab_type": "code",
        "colab": {}
      },
      "source": [
        "mydata=mydata.drop(['Time'],axis=1)"
      ],
      "execution_count": 0,
      "outputs": []
    },
    {
      "cell_type": "code",
      "metadata": {
        "id": "P6MLg_iaQ1S5",
        "colab_type": "code",
        "outputId": "dcfce9c1-93b4-49c4-be65-4fcef8bdbc07",
        "colab": {
          "base_uri": "https://localhost:8080/",
          "height": 424
        }
      },
      "source": [
        "mydata\n"
      ],
      "execution_count": 120,
      "outputs": [
        {
          "output_type": "execute_result",
          "data": {
            "text/html": [
              "<div>\n",
              "<style scoped>\n",
              "    .dataframe tbody tr th:only-of-type {\n",
              "        vertical-align: middle;\n",
              "    }\n",
              "\n",
              "    .dataframe tbody tr th {\n",
              "        vertical-align: top;\n",
              "    }\n",
              "\n",
              "    .dataframe thead th {\n",
              "        text-align: right;\n",
              "    }\n",
              "</style>\n",
              "<table border=\"1\" class=\"dataframe\">\n",
              "  <thead>\n",
              "    <tr style=\"text-align: right;\">\n",
              "      <th></th>\n",
              "      <th>Temperature</th>\n",
              "      <th>Salinity</th>\n",
              "      <th>Oxygen</th>\n",
              "      <th>pH</th>\n",
              "    </tr>\n",
              "  </thead>\n",
              "  <tbody>\n",
              "    <tr>\n",
              "      <th>0</th>\n",
              "      <td>13.233</td>\n",
              "      <td>33.5317</td>\n",
              "      <td>209.86</td>\n",
              "      <td>7.999</td>\n",
              "    </tr>\n",
              "    <tr>\n",
              "      <th>1</th>\n",
              "      <td>13.300</td>\n",
              "      <td>33.4850</td>\n",
              "      <td>209.84</td>\n",
              "      <td>8.001</td>\n",
              "    </tr>\n",
              "    <tr>\n",
              "      <th>2</th>\n",
              "      <td>13.269</td>\n",
              "      <td>33.4960</td>\n",
              "      <td>208.82</td>\n",
              "      <td>7.998</td>\n",
              "    </tr>\n",
              "    <tr>\n",
              "      <th>3</th>\n",
              "      <td>13.261</td>\n",
              "      <td>33.4764</td>\n",
              "      <td>207.71</td>\n",
              "      <td>7.995</td>\n",
              "    </tr>\n",
              "    <tr>\n",
              "      <th>4</th>\n",
              "      <td>13.284</td>\n",
              "      <td>33.4921</td>\n",
              "      <td>207.39</td>\n",
              "      <td>7.999</td>\n",
              "    </tr>\n",
              "    <tr>\n",
              "      <th>...</th>\n",
              "      <td>...</td>\n",
              "      <td>...</td>\n",
              "      <td>...</td>\n",
              "      <td>...</td>\n",
              "    </tr>\n",
              "    <tr>\n",
              "      <th>1054</th>\n",
              "      <td>13.677</td>\n",
              "      <td>33.4755</td>\n",
              "      <td>264.44</td>\n",
              "      <td>8.097</td>\n",
              "    </tr>\n",
              "    <tr>\n",
              "      <th>1055</th>\n",
              "      <td>13.794</td>\n",
              "      <td>33.5313</td>\n",
              "      <td>264.72</td>\n",
              "      <td>8.096</td>\n",
              "    </tr>\n",
              "    <tr>\n",
              "      <th>1056</th>\n",
              "      <td>13.937</td>\n",
              "      <td>33.5421</td>\n",
              "      <td>265.83</td>\n",
              "      <td>8.093</td>\n",
              "    </tr>\n",
              "    <tr>\n",
              "      <th>1057</th>\n",
              "      <td>13.772</td>\n",
              "      <td>33.5160</td>\n",
              "      <td>267.24</td>\n",
              "      <td>8.101</td>\n",
              "    </tr>\n",
              "    <tr>\n",
              "      <th>1058</th>\n",
              "      <td>13.678</td>\n",
              "      <td>33.5384</td>\n",
              "      <td>268.43</td>\n",
              "      <td>8.102</td>\n",
              "    </tr>\n",
              "  </tbody>\n",
              "</table>\n",
              "<p>1059 rows × 4 columns</p>\n",
              "</div>"
            ],
            "text/plain": [
              "      Temperature  Salinity  Oxygen     pH\n",
              "0          13.233   33.5317  209.86  7.999\n",
              "1          13.300   33.4850  209.84  8.001\n",
              "2          13.269   33.4960  208.82  7.998\n",
              "3          13.261   33.4764  207.71  7.995\n",
              "4          13.284   33.4921  207.39  7.999\n",
              "...           ...       ...     ...    ...\n",
              "1054       13.677   33.4755  264.44  8.097\n",
              "1055       13.794   33.5313  264.72  8.096\n",
              "1056       13.937   33.5421  265.83  8.093\n",
              "1057       13.772   33.5160  267.24  8.101\n",
              "1058       13.678   33.5384  268.43  8.102\n",
              "\n",
              "[1059 rows x 4 columns]"
            ]
          },
          "metadata": {
            "tags": []
          },
          "execution_count": 120
        }
      ]
    },
    {
      "cell_type": "code",
      "metadata": {
        "id": "MpkOk4ejSb7e",
        "colab_type": "code",
        "colab": {}
      },
      "source": [
        "Y=mydata['pH']\n",
        "x=mydata.drop('pH',axis=1)"
      ],
      "execution_count": 0,
      "outputs": []
    },
    {
      "cell_type": "code",
      "metadata": {
        "id": "Ry9ZYvP9TaOl",
        "colab_type": "code",
        "outputId": "c83874d4-9e54-43f6-de6b-20729df1b441",
        "colab": {
          "base_uri": "https://localhost:8080/",
          "height": 206
        }
      },
      "source": [
        "x.head()"
      ],
      "execution_count": 122,
      "outputs": [
        {
          "output_type": "execute_result",
          "data": {
            "text/html": [
              "<div>\n",
              "<style scoped>\n",
              "    .dataframe tbody tr th:only-of-type {\n",
              "        vertical-align: middle;\n",
              "    }\n",
              "\n",
              "    .dataframe tbody tr th {\n",
              "        vertical-align: top;\n",
              "    }\n",
              "\n",
              "    .dataframe thead th {\n",
              "        text-align: right;\n",
              "    }\n",
              "</style>\n",
              "<table border=\"1\" class=\"dataframe\">\n",
              "  <thead>\n",
              "    <tr style=\"text-align: right;\">\n",
              "      <th></th>\n",
              "      <th>Temperature</th>\n",
              "      <th>Salinity</th>\n",
              "      <th>Oxygen</th>\n",
              "    </tr>\n",
              "  </thead>\n",
              "  <tbody>\n",
              "    <tr>\n",
              "      <th>0</th>\n",
              "      <td>13.233</td>\n",
              "      <td>33.5317</td>\n",
              "      <td>209.86</td>\n",
              "    </tr>\n",
              "    <tr>\n",
              "      <th>1</th>\n",
              "      <td>13.300</td>\n",
              "      <td>33.4850</td>\n",
              "      <td>209.84</td>\n",
              "    </tr>\n",
              "    <tr>\n",
              "      <th>2</th>\n",
              "      <td>13.269</td>\n",
              "      <td>33.4960</td>\n",
              "      <td>208.82</td>\n",
              "    </tr>\n",
              "    <tr>\n",
              "      <th>3</th>\n",
              "      <td>13.261</td>\n",
              "      <td>33.4764</td>\n",
              "      <td>207.71</td>\n",
              "    </tr>\n",
              "    <tr>\n",
              "      <th>4</th>\n",
              "      <td>13.284</td>\n",
              "      <td>33.4921</td>\n",
              "      <td>207.39</td>\n",
              "    </tr>\n",
              "  </tbody>\n",
              "</table>\n",
              "</div>"
            ],
            "text/plain": [
              "   Temperature  Salinity  Oxygen\n",
              "0       13.233   33.5317  209.86\n",
              "1       13.300   33.4850  209.84\n",
              "2       13.269   33.4960  208.82\n",
              "3       13.261   33.4764  207.71\n",
              "4       13.284   33.4921  207.39"
            ]
          },
          "metadata": {
            "tags": []
          },
          "execution_count": 122
        }
      ]
    },
    {
      "cell_type": "code",
      "metadata": {
        "id": "nsR1xp5eaG93",
        "colab_type": "code",
        "colab": {}
      },
      "source": [
        ""
      ],
      "execution_count": 0,
      "outputs": []
    },
    {
      "cell_type": "code",
      "metadata": {
        "id": "veQf7zzPTvGk",
        "colab_type": "code",
        "outputId": "136a354b-46c4-4c67-b7d7-410428a65221",
        "colab": {
          "base_uri": "https://localhost:8080/",
          "height": 121
        }
      },
      "source": [
        "Y.head()"
      ],
      "execution_count": 123,
      "outputs": [
        {
          "output_type": "execute_result",
          "data": {
            "text/plain": [
              "0    7.999\n",
              "1    8.001\n",
              "2    7.998\n",
              "3    7.995\n",
              "4    7.999\n",
              "Name: pH, dtype: float64"
            ]
          },
          "metadata": {
            "tags": []
          },
          "execution_count": 123
        }
      ]
    },
    {
      "cell_type": "code",
      "metadata": {
        "id": "nD9nuxF4T8yI",
        "colab_type": "code",
        "colab": {}
      },
      "source": [
        "from sklearn.linear_model import LinearRegression\n",
        "from sklearn.model_selection import train_test_split"
      ],
      "execution_count": 0,
      "outputs": []
    },
    {
      "cell_type": "code",
      "metadata": {
        "id": "YZj1hlP1U5dc",
        "colab_type": "code",
        "colab": {}
      },
      "source": [
        "x_train,x_test,y_train,y_test=train_test_split(x,Y,test_size=0.33,random_state=5)"
      ],
      "execution_count": 0,
      "outputs": []
    },
    {
      "cell_type": "code",
      "metadata": {
        "id": "ZZRa0iTHUu2M",
        "colab_type": "code",
        "outputId": "30ed97f7-e74a-428f-c2d3-c21478f875d7",
        "colab": {
          "base_uri": "https://localhost:8080/",
          "height": 282
        }
      },
      "source": [
        "phdata=mydata['pH']\n",
        "temp=mydata['Temperature']\n",
        "#plt.plot(temp, phdata, 'b-', label='ph Value')\n",
        "#plt.plot(years, temp, 'g-', label='Temperature Value')\n",
        "plt.scatter(temp, phdata)\n",
        "\n"
      ],
      "execution_count": 126,
      "outputs": [
        {
          "output_type": "execute_result",
          "data": {
            "text/plain": [
              "<matplotlib.collections.PathCollection at 0x7fc9fc4cc240>"
            ]
          },
          "metadata": {
            "tags": []
          },
          "execution_count": 126
        },
        {
          "output_type": "display_data",
          "data": {
            "image/png": "[encoded data removed]",
            "text/plain": [
              "<Figure size 432x288 with 1 Axes>"
            ]
          },
          "metadata": {
            "tags": []
          }
        }
      ]
    },
    {
      "cell_type": "code",
      "metadata": {
        "id": "PDtTn_wqXw7U",
        "colab_type": "code",
        "outputId": "9c08ccd9-a661-4457-d4d1-f8dfbe8f834c",
        "colab": {
          "base_uri": "https://localhost:8080/",
          "height": 742
        }
      },
      "source": [
        "import seaborn as sns\n",
        "sns.pairplot(mydata)"
      ],
      "execution_count": 127,
      "outputs": [
        {
          "output_type": "execute_result",
          "data": {
            "text/plain": [
              "<seaborn.axisgrid.PairGrid at 0x7fc9fc51f588>"
            ]
          },
          "metadata": {
            "tags": []
          },
          "execution_count": 127
        },
        {
          "output_type": "display_data",
          "data": {
            "image/png": "[encoded data removed]",
            "text/plain": [
              "<Figure size 720x720 with 20 Axes>"
            ]
          },
          "metadata": {
            "tags": []
          }
        }
      ]
    },
    {
      "cell_type": "code",
      "metadata": {
        "id": "EMz5B5qrY_dc",
        "colab_type": "code",
        "outputId": "e0eca674-8d54-4be4-ded1-870ccbf3cf14",
        "colab": {
          "base_uri": "https://localhost:8080/",
          "height": 86
        }
      },
      "source": [
        "\n",
        "\n",
        "print(x_train.shape)\n",
        "print(x_test.shape)\n",
        "print(y_train.shape)\n",
        "print(y_test.shape)\n",
        "\n"
      ],
      "execution_count": 128,
      "outputs": [
        {
          "output_type": "stream",
          "text": [
            "(709, 3)\n",
            "(350, 3)\n",
            "(709,)\n",
            "(350,)\n"
          ],
          "name": "stdout"
        }
      ]
    },
    {
      "cell_type": "code",
      "metadata": {
        "id": "rzOLY9GVZMz3",
        "colab_type": "code",
        "outputId": "32c792ab-b779-453a-f2d3-935b567f2752",
        "colab": {
          "base_uri": "https://localhost:8080/",
          "height": 34
        }
      },
      "source": [
        "lm=LinearRegression()\n",
        "lm.fit(x_train,y_train)"
      ],
      "execution_count": 129,
      "outputs": [
        {
          "output_type": "execute_result",
          "data": {
            "text/plain": [
              "LinearRegression(copy_X=True, fit_intercept=True, n_jobs=None, normalize=False)"
            ]
          },
          "metadata": {
            "tags": []
          },
          "execution_count": 129
        }
      ]
    },
    {
      "cell_type": "code",
      "metadata": {
        "id": "l8rGCULTrpDH",
        "colab_type": "code",
        "colab": {
          "base_uri": "https://localhost:8080/",
          "height": 52
        },
        "outputId": "fa441a57-7bf2-4022-af43-4394a2e00817"
      },
      "source": [
        "print(lm.intercept_)\n",
        "print(lm.coef_)"
      ],
      "execution_count": 161,
      "outputs": [
        {
          "output_type": "stream",
          "text": [
            "7.699444718716138\n",
            "[0.02435269]\n"
          ],
          "name": "stdout"
        }
      ]
    },
    {
      "cell_type": "code",
      "metadata": {
        "id": "bVtq7y6eZS1T",
        "colab_type": "code",
        "colab": {}
      },
      "source": [
        "\n",
        "\n",
        "ph_pred=lm.predict(x_test)\n",
        "\n"
      ],
      "execution_count": 0,
      "outputs": []
    },
    {
      "cell_type": "code",
      "metadata": {
        "id": "WNgATbRGZjXM",
        "colab_type": "code",
        "outputId": "d5004669-6a13-45a8-ee12-ff92b49df649",
        "colab": {
          "base_uri": "https://localhost:8080/",
          "height": 278
        }
      },
      "source": [
        "df=pd.DataFrame(ph_pred,y_test)\n",
        "print(df)"
      ],
      "execution_count": 131,
      "outputs": [
        {
          "output_type": "stream",
          "text": [
            "              0\n",
            "pH             \n",
            "8.040  8.043115\n",
            "8.052  8.057071\n",
            "8.100  8.103477\n",
            "8.040  8.048239\n",
            "8.097  8.104991\n",
            "...         ...\n",
            "8.008  8.004403\n",
            "8.031  8.041335\n",
            "8.095  8.083642\n",
            "8.037  8.024524\n",
            "8.085  8.082646\n",
            "\n",
            "[350 rows x 1 columns]\n"
          ],
          "name": "stdout"
        }
      ]
    },
    {
      "cell_type": "code",
      "metadata": {
        "id": "-jDFi8-iaIVk",
        "colab_type": "code",
        "outputId": "8ac91059-a1b9-4527-e5f8-4f7c3e01c091",
        "colab": {
          "base_uri": "https://localhost:8080/",
          "height": 34
        }
      },
      "source": [
        "print(lm.predict([[26,33,208]]))"
      ],
      "execution_count": 132,
      "outputs": [
        {
          "output_type": "stream",
          "text": [
            "[7.94763982]\n"
          ],
          "name": "stdout"
        }
      ]
    },
    {
      "cell_type": "code",
      "metadata": {
        "id": "5WNv6Ddca569",
        "colab_type": "code",
        "outputId": "d6e2c222-9cf0-452c-d17f-74e30d959be2",
        "colab": {
          "base_uri": "https://localhost:8080/",
          "height": 34
        }
      },
      "source": [
        "from sklearn.metrics import mean_squared_error,accuracy_score\n",
        "mse=mean_squared_error(y_test,ph_pred)\n",
        "#acc=accuracy_score(y_test,ph_pred)\n",
        "print(mse)\n",
        "#print(acc)"
      ],
      "execution_count": 133,
      "outputs": [
        {
          "output_type": "stream",
          "text": [
            "0.00017626605671236745\n"
          ],
          "name": "stdout"
        }
      ]
    },
    {
      "cell_type": "code",
      "metadata": {
        "id": "DDgINGZbFVQh",
        "colab_type": "code",
        "outputId": "c31cfc8a-e78c-4fc5-f25b-5f17492de820",
        "colab": {
          "base_uri": "https://localhost:8080/",
          "height": 34
        }
      },
      "source": [
        "from sklearn.metrics import r2_score\n",
        "\n",
        "print(r2_score(y_test,ph_pred))"
      ],
      "execution_count": 134,
      "outputs": [
        {
          "output_type": "stream",
          "text": [
            "0.9331216961456694\n"
          ],
          "name": "stdout"
        }
      ]
    },
    {
      "cell_type": "code",
      "metadata": {
        "id": "CMITHzirbIPV",
        "colab_type": "code",
        "outputId": "1b2e93b8-1747-447a-b84f-90b5f0bca650",
        "colab": {
          "base_uri": "https://localhost:8080/",
          "height": 279
        }
      },
      "source": [
        "fig,ax=plt.subplots()\n",
        "ax.scatter(y_test,ph_pred)\n",
        "ax.plot([y_test.min(),y_test.max()],[y_test.min(),y_test.max()],'k--',lw=3)\n",
        "ax.set_xlabel(\"Measured\")\n",
        "ax.set_ylabel(\"Predicted\")\n",
        "plt.show()"
      ],
      "execution_count": 135,
      "outputs": [
        {
          "output_type": "display_data",
          "data": {
            "image/png": "[encoded data removed]",
            "text/plain": [
              "<Figure size 432x288 with 1 Axes>"
            ]
          },
          "metadata": {
            "tags": []
          }
        }
      ]
    },
    {
      "cell_type": "code",
      "metadata": {
        "id": "Y1Urp7FeNSvp",
        "colab_type": "code",
        "colab": {}
      },
      "source": [
        ""
      ],
      "execution_count": 0,
      "outputs": []
    },
    {
      "cell_type": "markdown",
      "metadata": {
        "id": "t6mGnhICOUr1",
        "colab_type": "text"
      },
      "source": [
        "Predicting pH Only With Temperature Value\n"
      ]
    },
    {
      "cell_type": "code",
      "metadata": {
        "id": "Gnq6W8NzOevW",
        "colab_type": "code",
        "colab": {}
      },
      "source": [
        "xx=mydata['Temperature']\n"
      ],
      "execution_count": 0,
      "outputs": []
    },
    {
      "cell_type": "code",
      "metadata": {
        "id": "3RVRLVpSOrSW",
        "colab_type": "code",
        "colab": {}
      },
      "source": [
        "X_train,X_test,Y_train,Y_test=train_test_split(xx,Y,test_size=0.3,random_state=5)"
      ],
      "execution_count": 0,
      "outputs": []
    },
    {
      "cell_type": "code",
      "metadata": {
        "id": "8nYPv1i6O96Z",
        "colab_type": "code",
        "outputId": "70454176-cc06-4f53-a1be-17ec5bbd6057",
        "colab": {
          "base_uri": "https://localhost:8080/",
          "height": 34
        }
      },
      "source": [
        "print(X_test.shape)\n",
        "#X_train.reshape(1,-1)"
      ],
      "execution_count": 138,
      "outputs": [
        {
          "output_type": "stream",
          "text": [
            "(318,)\n"
          ],
          "name": "stdout"
        }
      ]
    },
    {
      "cell_type": "code",
      "metadata": {
        "id": "JhA0mMgDPHX8",
        "colab_type": "code",
        "outputId": "6a176f4a-10ed-4d1f-a74c-caee22884e12",
        "colab": {
          "base_uri": "https://localhost:8080/",
          "height": 34
        }
      },
      "source": [
        "lm.fit(mydata[['Temperature']],Y)"
      ],
      "execution_count": 139,
      "outputs": [
        {
          "output_type": "execute_result",
          "data": {
            "text/plain": [
              "LinearRegression(copy_X=True, fit_intercept=True, n_jobs=None, normalize=False)"
            ]
          },
          "metadata": {
            "tags": []
          },
          "execution_count": 139
        }
      ]
    },
    {
      "cell_type": "code",
      "metadata": {
        "id": "Ea1jhudTRl6H",
        "colab_type": "code",
        "outputId": "9c3e4624-7a0d-426b-ee67-4955c8294eee",
        "colab": {
          "base_uri": "https://localhost:8080/",
          "height": 34
        }
      },
      "source": [
        "lm.predict([[35]])"
      ],
      "execution_count": 140,
      "outputs": [
        {
          "output_type": "execute_result",
          "data": {
            "text/plain": [
              "array([8.55178892])"
            ]
          },
          "metadata": {
            "tags": []
          },
          "execution_count": 140
        }
      ]
    },
    {
      "cell_type": "code",
      "metadata": {
        "id": "fe2HUqzRmi9o",
        "colab_type": "code",
        "colab": {}
      },
      "source": [
        ""
      ],
      "execution_count": 0,
      "outputs": []
    },
    {
      "cell_type": "markdown",
      "metadata": {
        "id": "ZPb3_R1v-nM2",
        "colab_type": "text"
      },
      "source": [
        "Decision Tree Regression "
      ]
    },
    {
      "cell_type": "code",
      "metadata": {
        "id": "th1W60Zq-tIH",
        "colab_type": "code",
        "colab": {}
      },
      "source": [
        "from sklearn.tree import DecisionTreeRegressor\n",
        "dtr=DecisionTreeRegressor(random_state=1)"
      ],
      "execution_count": 0,
      "outputs": []
    },
    {
      "cell_type": "code",
      "metadata": {
        "id": "-zelXSt5--wO",
        "colab_type": "code",
        "outputId": "ac1bbf71-9ad0-4caf-c64c-877d1fc83265",
        "colab": {
          "base_uri": "https://localhost:8080/",
          "height": 104
        }
      },
      "source": [
        "dtr.fit(x_train,y_train)"
      ],
      "execution_count": 142,
      "outputs": [
        {
          "output_type": "execute_result",
          "data": {
            "text/plain": [
              "DecisionTreeRegressor(criterion='mse', max_depth=None, max_features=None,\n",
              "                      max_leaf_nodes=None, min_impurity_decrease=0.0,\n",
              "                      min_impurity_split=None, min_samples_leaf=1,\n",
              "                      min_samples_split=2, min_weight_fraction_leaf=0.0,\n",
              "                      presort=False, random_state=1, splitter='best')"
            ]
          },
          "metadata": {
            "tags": []
          },
          "execution_count": 142
        }
      ]
    },
    {
      "cell_type": "code",
      "metadata": {
        "id": "QK2bTf0j_NfW",
        "colab_type": "code",
        "colab": {}
      },
      "source": [
        "pred=dtr.predict(x_test)\n"
      ],
      "execution_count": 0,
      "outputs": []
    },
    {
      "cell_type": "code",
      "metadata": {
        "id": "Fk9sPOmA_lsU",
        "colab_type": "code",
        "outputId": "f19f8556-1d7f-4bfd-8258-08b7ecc7118c",
        "colab": {
          "base_uri": "https://localhost:8080/",
          "height": 424
        }
      },
      "source": [
        "dd=pd.DataFrame(pred)\n",
        "dd"
      ],
      "execution_count": 144,
      "outputs": [
        {
          "output_type": "execute_result",
          "data": {
            "text/html": [
              "<div>\n",
              "<style scoped>\n",
              "    .dataframe tbody tr th:only-of-type {\n",
              "        vertical-align: middle;\n",
              "    }\n",
              "\n",
              "    .dataframe tbody tr th {\n",
              "        vertical-align: top;\n",
              "    }\n",
              "\n",
              "    .dataframe thead th {\n",
              "        text-align: right;\n",
              "    }\n",
              "</style>\n",
              "<table border=\"1\" class=\"dataframe\">\n",
              "  <thead>\n",
              "    <tr style=\"text-align: right;\">\n",
              "      <th></th>\n",
              "      <th>0</th>\n",
              "    </tr>\n",
              "  </thead>\n",
              "  <tbody>\n",
              "    <tr>\n",
              "      <th>0</th>\n",
              "      <td>8.044</td>\n",
              "    </tr>\n",
              "    <tr>\n",
              "      <th>1</th>\n",
              "      <td>8.048</td>\n",
              "    </tr>\n",
              "    <tr>\n",
              "      <th>2</th>\n",
              "      <td>8.093</td>\n",
              "    </tr>\n",
              "    <tr>\n",
              "      <th>3</th>\n",
              "      <td>8.044</td>\n",
              "    </tr>\n",
              "    <tr>\n",
              "      <th>4</th>\n",
              "      <td>8.105</td>\n",
              "    </tr>\n",
              "    <tr>\n",
              "      <th>...</th>\n",
              "      <td>...</td>\n",
              "    </tr>\n",
              "    <tr>\n",
              "      <th>345</th>\n",
              "      <td>8.012</td>\n",
              "    </tr>\n",
              "    <tr>\n",
              "      <th>346</th>\n",
              "      <td>8.054</td>\n",
              "    </tr>\n",
              "    <tr>\n",
              "      <th>347</th>\n",
              "      <td>8.091</td>\n",
              "    </tr>\n",
              "    <tr>\n",
              "      <th>348</th>\n",
              "      <td>8.028</td>\n",
              "    </tr>\n",
              "    <tr>\n",
              "      <th>349</th>\n",
              "      <td>8.084</td>\n",
              "    </tr>\n",
              "  </tbody>\n",
              "</table>\n",
              "<p>350 rows × 1 columns</p>\n",
              "</div>"
            ],
            "text/plain": [
              "         0\n",
              "0    8.044\n",
              "1    8.048\n",
              "2    8.093\n",
              "3    8.044\n",
              "4    8.105\n",
              "..     ...\n",
              "345  8.012\n",
              "346  8.054\n",
              "347  8.091\n",
              "348  8.028\n",
              "349  8.084\n",
              "\n",
              "[350 rows x 1 columns]"
            ]
          },
          "metadata": {
            "tags": []
          },
          "execution_count": 144
        }
      ]
    },
    {
      "cell_type": "code",
      "metadata": {
        "id": "bNq_opTdAEoB",
        "colab_type": "code",
        "outputId": "91f0d60f-5912-4772-a1bb-3a0749b01694",
        "colab": {
          "base_uri": "https://localhost:8080/",
          "height": 34
        }
      },
      "source": [
        "from sklearn.metrics import r2_score\n",
        "\n",
        "print(r2_score(y_test,dd))"
      ],
      "execution_count": 145,
      "outputs": [
        {
          "output_type": "stream",
          "text": [
            "0.9588007553485483\n"
          ],
          "name": "stdout"
        }
      ]
    },
    {
      "cell_type": "code",
      "metadata": {
        "id": "0GLtdMg-AkJQ",
        "colab_type": "code",
        "outputId": "71706330-8c75-4b63-dd72-2a3840e92e50",
        "colab": {
          "base_uri": "https://localhost:8080/",
          "height": 225
        }
      },
      "source": [
        "y_test"
      ],
      "execution_count": 146,
      "outputs": [
        {
          "output_type": "execute_result",
          "data": {
            "text/plain": [
              "423    8.040\n",
              "580    8.052\n",
              "246    8.100\n",
              "445    8.040\n",
              "234    8.097\n",
              "       ...  \n",
              "533    8.008\n",
              "823    8.031\n",
              "129    8.095\n",
              "366    8.037\n",
              "213    8.085\n",
              "Name: pH, Length: 350, dtype: float64"
            ]
          },
          "metadata": {
            "tags": []
          },
          "execution_count": 146
        }
      ]
    },
    {
      "cell_type": "markdown",
      "metadata": {
        "id": "qqco5e9vFzY_",
        "colab_type": "text"
      },
      "source": [
        "Support Vector Machine Regression "
      ]
    },
    {
      "cell_type": "code",
      "metadata": {
        "id": "8PeNBIMuF6z3",
        "colab_type": "code",
        "colab": {}
      },
      "source": [
        "from sklearn import svm\n",
        "\n",
        "svmmodel=svm.SVR()\n"
      ],
      "execution_count": 0,
      "outputs": []
    },
    {
      "cell_type": "code",
      "metadata": {
        "id": "4Dplvvo8GGr4",
        "colab_type": "code",
        "outputId": "c5bcefe4-42dd-45f9-fbac-afc364412ecf",
        "colab": {
          "base_uri": "https://localhost:8080/",
          "height": 124
        }
      },
      "source": [
        "svmmodel.fit(x_train,y_train)"
      ],
      "execution_count": 148,
      "outputs": [
        {
          "output_type": "stream",
          "text": [
            "/usr/local/lib/python3.6/dist-packages/sklearn/svm/base.py:193: FutureWarning: The default value of gamma will change from 'auto' to 'scale' in version 0.22 to account better for unscaled features. Set gamma explicitly to 'auto' or 'scale' to avoid this warning.\n",
            "  \"avoid this warning.\", FutureWarning)\n"
          ],
          "name": "stderr"
        },
        {
          "output_type": "execute_result",
          "data": {
            "text/plain": [
              "SVR(C=1.0, cache_size=200, coef0=0.0, degree=3, epsilon=0.1,\n",
              "    gamma='auto_deprecated', kernel='rbf', max_iter=-1, shrinking=True,\n",
              "    tol=0.001, verbose=False)"
            ]
          },
          "metadata": {
            "tags": []
          },
          "execution_count": 148
        }
      ]
    },
    {
      "cell_type": "code",
      "metadata": {
        "id": "6_BMlXgFGMnu",
        "colab_type": "code",
        "colab": {}
      },
      "source": [
        "svmpred=svmmodel.predict(x_test)"
      ],
      "execution_count": 0,
      "outputs": []
    },
    {
      "cell_type": "code",
      "metadata": {
        "id": "dFOs5dd5INqq",
        "colab_type": "code",
        "outputId": "6a7089ab-25ec-4161-d3fc-81cffc51ed33",
        "colab": {
          "base_uri": "https://localhost:8080/",
          "height": 1000
        }
      },
      "source": [
        "svmpred"
      ],
      "execution_count": 150,
      "outputs": [
        {
          "output_type": "execute_result",
          "data": {
            "text/plain": [
              "array([8.01556919, 8.0155692 , 8.0161572 , 8.01556919, 8.01719727,\n",
              "       8.01556919, 8.01573045, 8.01556919, 8.01556919, 8.01692839,\n",
              "       8.01559706, 8.01637147, 8.00841293, 8.01561747, 8.02685738,\n",
              "       8.01556919, 8.01938237, 8.01606343, 8.01556919, 8.01556919,\n",
              "       8.0155692 , 8.01566349, 8.01556919, 8.01556919, 8.02719773,\n",
              "       8.01556919, 8.01556919, 8.01556919, 8.01556919, 8.01578282,\n",
              "       8.01556919, 8.01556919, 8.0171176 , 8.01568175, 8.01556919,\n",
              "       8.01556919, 8.01556919, 8.01556919, 8.01562446, 8.01556919,\n",
              "       8.01556919, 8.01596844, 8.01556919, 8.01617919, 8.01563129,\n",
              "       8.02644746, 8.01556919, 8.01579912, 8.01556919, 8.00098336,\n",
              "       8.0160842 , 8.01556919, 8.01556919, 8.01578024, 8.01556919,\n",
              "       8.01556919, 8.01556919, 8.01556919, 8.01556919, 8.01831349,\n",
              "       8.01557747, 8.01556919, 8.01612248, 8.01606018, 8.0123966 ,\n",
              "       8.01556919, 8.01214343, 8.01567729, 8.02606047, 8.01556919,\n",
              "       8.01601689, 8.01556919, 8.01556919, 8.01653819, 8.01556919,\n",
              "       8.01578378, 8.01556919, 8.01556919, 8.01556919, 8.01556919,\n",
              "       8.0155734 , 8.01556919, 8.01556919, 8.01618116, 8.01560059,\n",
              "       8.01592226, 8.01558563, 8.01586621, 8.01556944, 8.01556919,\n",
              "       8.01556919, 8.01685179, 8.01637631, 8.0156377 , 8.02348239,\n",
              "       8.01066934, 8.01944074, 8.01556919, 8.01667353, 8.01559798,\n",
              "       8.01556919, 8.01556919, 8.01838038, 8.01556919, 8.01676546,\n",
              "       8.0199651 , 8.0170717 , 8.01556919, 8.01556919, 8.01556919,\n",
              "       8.01556919, 8.01556919, 8.01739961, 8.01556919, 8.01556919,\n",
              "       8.01556919, 8.02601361, 8.01556919, 8.01556919, 8.01293941,\n",
              "       8.01556919, 8.02624433, 8.01556919, 8.01556919, 8.01556919,\n",
              "       8.01698841, 8.01556919, 8.01587649, 8.01556919, 8.01568478,\n",
              "       8.0156024 , 8.01556919, 8.01556919, 8.01709488, 8.01556919,\n",
              "       8.01556919, 8.01560703, 8.01695165, 8.01556919, 8.01565647,\n",
              "       8.0156217 , 8.01556919, 8.01556919, 8.01559132, 8.01556919,\n",
              "       8.01556919, 8.02550702, 8.01556919, 8.01557232, 8.01557565,\n",
              "       8.01556919, 8.01556919, 8.01556919, 8.01587768, 8.01556919,\n",
              "       8.01556919, 8.01557869, 8.01959767, 8.01556919, 8.01557613,\n",
              "       8.01556919, 8.01556919, 8.01556919, 8.01556919, 8.01556919,\n",
              "       8.01556919, 8.01556919, 8.01556919, 8.01556919, 8.01561303,\n",
              "       8.01556919, 8.01556919, 8.01932503, 8.01556919, 8.01556919,\n",
              "       8.02022742, 8.01606024, 8.01556919, 8.01556919, 8.01556919,\n",
              "       8.01285009, 8.02469113, 8.01485028, 8.01556919, 8.01557416,\n",
              "       8.01556919, 8.01556919, 8.01555005, 8.01556919, 8.0162021 ,\n",
              "       8.01556919, 8.01556919, 8.01654337, 8.01558839, 8.01556919,\n",
              "       8.01594281, 8.02772414, 8.01781615, 8.01556919, 8.01596945,\n",
              "       8.01556919, 8.01556919, 8.0155692 , 8.0158146 , 8.01649219,\n",
              "       8.01557141, 8.01556919, 8.01556919, 8.01227991, 8.0119088 ,\n",
              "       8.01526533, 8.01556919, 8.01556919, 8.01166075, 8.01556919,\n",
              "       8.01625806, 8.01556919, 8.00967682, 8.01990541, 8.01556919,\n",
              "       8.01734718, 8.0160896 , 8.01556919, 8.01689621, 8.01556919,\n",
              "       8.01569328, 8.01556919, 8.00777496, 8.02098771, 8.01556919,\n",
              "       8.01556919, 8.01556919, 8.01588332, 8.01736172, 8.01556919,\n",
              "       8.01556919, 8.01556919, 8.01591284, 8.01585085, 8.01701599,\n",
              "       8.01556919, 8.01014366, 8.01556919, 8.01556919, 8.01556919,\n",
              "       8.0155754 , 8.01556919, 8.01557023, 8.01557203, 8.01607802,\n",
              "       8.01556919, 8.01556919, 8.01556919, 8.01556919, 8.01556919,\n",
              "       8.01719373, 8.01589163, 8.01556919, 8.02011288, 8.01556919,\n",
              "       8.01556919, 8.01556919, 8.0155657 , 8.01556919, 8.01561034,\n",
              "       8.0159407 , 8.01556919, 8.01556919, 8.01557753, 8.01556919,\n",
              "       8.01731637, 8.01556919, 8.01556919, 8.01638454, 8.01557103,\n",
              "       8.01588471, 8.01632544, 8.01556919, 8.01556919, 8.01556898,\n",
              "       8.01583656, 8.01733074, 8.01556919, 8.01557469, 8.01556919,\n",
              "       8.01558601, 8.01556919, 8.01989346, 8.01556919, 8.01556919,\n",
              "       8.01556919, 8.00713206, 8.01556919, 8.01556919, 8.01556919,\n",
              "       8.01556919, 8.01556919, 8.01699616, 8.01556919, 8.01901698,\n",
              "       8.01809544, 8.01556919, 8.01556919, 8.01556919, 8.01862901,\n",
              "       8.01556919, 8.01629837, 8.0155841 , 8.0310255 , 8.01556919,\n",
              "       8.01589288, 8.01556919, 8.01121675, 8.01558504, 8.01566527,\n",
              "       8.0155693 , 8.01556919, 8.02764284, 8.01954167, 8.01556933,\n",
              "       8.01768522, 8.0155831 , 8.01557408, 8.01556919, 8.01556919,\n",
              "       8.01564778, 8.0197457 , 8.01715379, 8.01556919, 8.01556919,\n",
              "       8.01780422, 8.01556919, 8.01556919, 8.01563599, 8.01712676,\n",
              "       8.01556919, 8.01556919, 8.01561899, 8.01556919, 8.01556919,\n",
              "       8.01556919, 8.01556919, 8.01556919, 8.01556919, 8.01556919,\n",
              "       8.01556919, 8.01556919, 8.01556919, 8.01556919, 8.01556919])"
            ]
          },
          "metadata": {
            "tags": []
          },
          "execution_count": 150
        }
      ]
    },
    {
      "cell_type": "code",
      "metadata": {
        "id": "WXIkN3vRIRmx",
        "colab_type": "code",
        "outputId": "d3a08e6e-fee3-4584-a7e8-cbf15735580b",
        "colab": {
          "base_uri": "https://localhost:8080/",
          "height": 86
        }
      },
      "source": [
        "#from sklearn.metrics import r2_score\n",
        "\n",
        "\n",
        "print(\"Using Support Vector Regressor\")\n",
        "print(\"Mean Squared Error : %f\"%(sklearn.metrics.mean_squared_error(y_test,svmpred)))\n",
        "print(\"Mean Absolute Error : %f\"%(sklearn.metrics.mean_absolute_error(y_test,svmpred)))\n",
        "print(\"R2 Score : %f\"%(sklearn.metrics.r2_score(y_test,svmpred)))"
      ],
      "execution_count": 156,
      "outputs": [
        {
          "output_type": "stream",
          "text": [
            "Using Support Vector Regressor\n",
            "Mean Squared Error : 0.003774\n",
            "Mean Absolute Error : 0.053770\n",
            "R2 Score : -0.432073\n"
          ],
          "name": "stdout"
        }
      ]
    },
    {
      "cell_type": "code",
      "metadata": {
        "id": "t1UuxulkmUR1",
        "colab_type": "code",
        "colab": {}
      },
      "source": [
        ""
      ],
      "execution_count": 0,
      "outputs": []
    },
    {
      "cell_type": "markdown",
      "metadata": {
        "id": "_Y3X4q-7mU1V",
        "colab_type": "text"
      },
      "source": [
        "Gredient Boosting Regression "
      ]
    },
    {
      "cell_type": "code",
      "metadata": {
        "id": "hB5aJFp8mUOd",
        "colab_type": "code",
        "colab": {}
      },
      "source": [
        "from sklearn.utils import shuffle\n",
        "from sklearn import ensemble\n",
        "params = {'n_estimators': 500, 'max_depth': 4, 'min_samples_split': 2,\n",
        "          'learning_rate': 0.01, 'loss': 'ls'}"
      ],
      "execution_count": 0,
      "outputs": []
    },
    {
      "cell_type": "code",
      "metadata": {
        "id": "XtdxL7C7nUr8",
        "colab_type": "code",
        "colab": {}
      },
      "source": [
        "clf = ensemble.GradientBoostingRegressor(**params)\n"
      ],
      "execution_count": 0,
      "outputs": []
    },
    {
      "cell_type": "code",
      "metadata": {
        "id": "Hv-QJb1pnsxK",
        "colab_type": "code",
        "colab": {
          "base_uri": "https://localhost:8080/",
          "height": 173
        },
        "outputId": "4955592a-a7e0-41cd-d804-fa40a3fb7387"
      },
      "source": [
        "clf.fit(x_train,y_train)\n"
      ],
      "execution_count": 168,
      "outputs": [
        {
          "output_type": "execute_result",
          "data": {
            "text/plain": [
              "GradientBoostingRegressor(alpha=0.9, criterion='friedman_mse', init=None,\n",
              "                          learning_rate=0.01, loss='ls', max_depth=4,\n",
              "                          max_features=None, max_leaf_nodes=None,\n",
              "                          min_impurity_decrease=0.0, min_impurity_split=None,\n",
              "                          min_samples_leaf=1, min_samples_split=2,\n",
              "                          min_weight_fraction_leaf=0.0, n_estimators=500,\n",
              "                          n_iter_no_change=None, presort='auto',\n",
              "                          random_state=None, subsample=1.0, tol=0.0001,\n",
              "                          validation_fraction=0.1, verbose=0, warm_start=False)"
            ]
          },
          "metadata": {
            "tags": []
          },
          "execution_count": 168
        }
      ]
    },
    {
      "cell_type": "code",
      "metadata": {
        "id": "cpUAnIIJn7nE",
        "colab_type": "code",
        "colab": {
          "base_uri": "https://localhost:8080/",
          "height": 34
        },
        "outputId": "1dd24a12-e447-4f98-ae0b-d82c10210a96"
      },
      "source": [
        "print(\"Accuracy : %f\"%(r2_score(y_test,clf.predict(x_test))))\n",
        "gbr=clf.predict(x_test)"
      ],
      "execution_count": 169,
      "outputs": [
        {
          "output_type": "stream",
          "text": [
            "Accuracy : 0.972219\n"
          ],
          "name": "stdout"
        }
      ]
    },
    {
      "cell_type": "code",
      "metadata": {
        "id": "IyEyZIyqsYm5",
        "colab_type": "code",
        "colab": {
          "base_uri": "https://localhost:8080/",
          "height": 439
        },
        "outputId": "a81c6723-1255-4222-eeb5-028f3283c668"
      },
      "source": [
        "mse = mean_squared_error(y_test, clf.predict(x_test))\n",
        "print(\"MSE: %.4f\" % mse)\n",
        "\n",
        "# #############################################################################\n",
        "# Plot training deviance\n",
        "\n",
        "# compute test set deviance\n",
        "test_score = np.zeros((params['n_estimators'],), dtype=np.float64)\n",
        "\n",
        "for i, y_pred in enumerate(clf.staged_predict(x_test)):\n",
        "    test_score[i] = clf.loss_(y_test, gbr)\n",
        "\n",
        "plt.figure(figsize=(12, 6))\n",
        "plt.subplot(1, 2, 1)\n",
        "plt.title('Deviance')\n",
        "plt.plot(np.arange(params['n_estimators']) + 1, clf.train_score_, 'b-',\n",
        "         label='Training Set Deviance')\n",
        "plt.plot(np.arange(params['n_estimators']) + 1, test_score, 'r-',\n",
        "         label='Test Set Deviance')\n",
        "plt.legend(loc='upper right')\n",
        "plt.xlabel('Boosting Iterations')\n",
        "plt.ylabel('Deviance')"
      ],
      "execution_count": 170,
      "outputs": [
        {
          "output_type": "stream",
          "text": [
            "MSE: 0.0001\n"
          ],
          "name": "stdout"
        },
        {
          "output_type": "execute_result",
          "data": {
            "text/plain": [
              "Text(0, 0.5, 'Deviance')"
            ]
          },
          "metadata": {
            "tags": []
          },
          "execution_count": 170
        },
        {
          "output_type": "display_data",
          "data": {
            "image/png": "[encoded data removed]",
            "text/plain": [
              "<Figure size 864x432 with 1 Axes>"
            ]
          },
          "metadata": {
            "tags": []
          }
        }
      ]
    },
    {
      "cell_type": "code",
      "metadata": {
        "id": "JlfgQIzRtMBc",
        "colab_type": "code",
        "colab": {}
      },
      "source": [
        ""
      ],
      "execution_count": 0,
      "outputs": []
    },
    {
      "cell_type": "code",
      "metadata": {
        "id": "TImsY3Adt3-A",
        "colab_type": "code",
        "colab": {
          "base_uri": "https://localhost:8080/",
          "height": 34
        },
        "outputId": "8c361e00-597d-45d8-bc85-489fde33675e"
      },
      "source": [
        "data.columns"
      ],
      "execution_count": 174,
      "outputs": [
        {
          "output_type": "execute_result",
          "data": {
            "text/plain": [
              "Index(['Time', 'Temperature', 'Salinity', 'Oxygen', 'pH', 'Unnamed: 5'], dtype='object')"
            ]
          },
          "metadata": {
            "tags": []
          },
          "execution_count": 174
        }
      ]
    },
    {
      "cell_type": "code",
      "metadata": {
        "id": "znMj7ut5t4Cc",
        "colab_type": "code",
        "colab": {}
      },
      "source": [
        ""
      ],
      "execution_count": 0,
      "outputs": []
    },
    {
      "cell_type": "code",
      "metadata": {
        "id": "OhS2Pb2iv1EZ",
        "colab_type": "code",
        "colab": {}
      },
      "source": [
        ""
      ],
      "execution_count": 0,
      "outputs": []
    }
  ]
}